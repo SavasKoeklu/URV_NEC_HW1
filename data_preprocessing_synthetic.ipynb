{
 "cells": [
  {
   "cell_type": "code",
   "execution_count": 64,
   "metadata": {},
   "outputs": [],
   "source": [
    "import numpy as np\n",
    "import pandas as pd\n",
    "import matplotlib.pyplot as plt"
   ]
  },
  {
   "cell_type": "code",
   "execution_count": 65,
   "metadata": {},
   "outputs": [],
   "source": [
    "syntheticdf = pd.read_csv(\"datasets/A1-synthetic.txt\", sep=\"\\t\")"
   ]
  },
  {
   "cell_type": "code",
   "execution_count": 66,
   "metadata": {},
   "outputs": [
    {
     "data": {
      "text/html": [
       "<div>\n",
       "<style scoped>\n",
       "    .dataframe tbody tr th:only-of-type {\n",
       "        vertical-align: middle;\n",
       "    }\n",
       "\n",
       "    .dataframe tbody tr th {\n",
       "        vertical-align: top;\n",
       "    }\n",
       "\n",
       "    .dataframe thead th {\n",
       "        text-align: right;\n",
       "    }\n",
       "</style>\n",
       "<table border=\"1\" class=\"dataframe\">\n",
       "  <thead>\n",
       "    <tr style=\"text-align: right;\">\n",
       "      <th></th>\n",
       "      <th>#v1</th>\n",
       "      <th>v2</th>\n",
       "      <th>v3</th>\n",
       "      <th>v4</th>\n",
       "      <th>v5</th>\n",
       "      <th>v6</th>\n",
       "      <th>v7</th>\n",
       "      <th>v8</th>\n",
       "      <th>v9</th>\n",
       "      <th>z</th>\n",
       "    </tr>\n",
       "  </thead>\n",
       "  <tbody>\n",
       "    <tr>\n",
       "      <th>0</th>\n",
       "      <td>37.344110</td>\n",
       "      <td>10.542156</td>\n",
       "      <td>0.969185</td>\n",
       "      <td>3.568534</td>\n",
       "      <td>96.798733</td>\n",
       "      <td>3.429026</td>\n",
       "      <td>75.810196</td>\n",
       "      <td>0</td>\n",
       "      <td>20.002459</td>\n",
       "      <td>11.805369</td>\n",
       "    </tr>\n",
       "    <tr>\n",
       "      <th>1</th>\n",
       "      <td>4.089849</td>\n",
       "      <td>11.894301</td>\n",
       "      <td>0.467775</td>\n",
       "      <td>1.279044</td>\n",
       "      <td>100.149383</td>\n",
       "      <td>3.190073</td>\n",
       "      <td>76.423095</td>\n",
       "      <td>0</td>\n",
       "      <td>12.702628</td>\n",
       "      <td>5.125025</td>\n",
       "    </tr>\n",
       "    <tr>\n",
       "      <th>2</th>\n",
       "      <td>-32.333439</td>\n",
       "      <td>10.968631</td>\n",
       "      <td>0.238486</td>\n",
       "      <td>1.410745</td>\n",
       "      <td>100.642075</td>\n",
       "      <td>3.093934</td>\n",
       "      <td>78.758727</td>\n",
       "      <td>1</td>\n",
       "      <td>10.723848</td>\n",
       "      <td>3.218553</td>\n",
       "    </tr>\n",
       "    <tr>\n",
       "      <th>3</th>\n",
       "      <td>-45.632977</td>\n",
       "      <td>11.509606</td>\n",
       "      <td>0.924938</td>\n",
       "      <td>3.404069</td>\n",
       "      <td>105.963016</td>\n",
       "      <td>2.884269</td>\n",
       "      <td>83.027750</td>\n",
       "      <td>0</td>\n",
       "      <td>19.946593</td>\n",
       "      <td>12.955092</td>\n",
       "    </tr>\n",
       "    <tr>\n",
       "      <th>4</th>\n",
       "      <td>-41.543394</td>\n",
       "      <td>10.117186</td>\n",
       "      <td>0.315180</td>\n",
       "      <td>1.020120</td>\n",
       "      <td>97.371423</td>\n",
       "      <td>2.815820</td>\n",
       "      <td>77.194463</td>\n",
       "      <td>0</td>\n",
       "      <td>11.105024</td>\n",
       "      <td>1.919094</td>\n",
       "    </tr>\n",
       "  </tbody>\n",
       "</table>\n",
       "</div>"
      ],
      "text/plain": [
       "         #v1         v2        v3        v4          v5        v6         v7  \\\n",
       "0  37.344110  10.542156  0.969185  3.568534   96.798733  3.429026  75.810196   \n",
       "1   4.089849  11.894301  0.467775  1.279044  100.149383  3.190073  76.423095   \n",
       "2 -32.333439  10.968631  0.238486  1.410745  100.642075  3.093934  78.758727   \n",
       "3 -45.632977  11.509606  0.924938  3.404069  105.963016  2.884269  83.027750   \n",
       "4 -41.543394  10.117186  0.315180  1.020120   97.371423  2.815820  77.194463   \n",
       "\n",
       "   v8         v9          z  \n",
       "0   0  20.002459  11.805369  \n",
       "1   0  12.702628   5.125025  \n",
       "2   1  10.723848   3.218553  \n",
       "3   0  19.946593  12.955092  \n",
       "4   0  11.105024   1.919094  "
      ]
     },
     "execution_count": 66,
     "metadata": {},
     "output_type": "execute_result"
    }
   ],
   "source": [
    "syntheticdf.head()"
   ]
  },
  {
   "cell_type": "markdown",
   "metadata": {},
   "source": [
    "We look at the data and try to figure out if there are much outliers, when there are much outliers we use standardisation and not normalisation, because would shrink the distance to much between points when there is an outlier. First we take a look on the data properties"
   ]
  },
  {
   "cell_type": "code",
   "execution_count": 67,
   "metadata": {},
   "outputs": [
    {
     "data": {
      "text/html": [
       "<div>\n",
       "<style scoped>\n",
       "    .dataframe tbody tr th:only-of-type {\n",
       "        vertical-align: middle;\n",
       "    }\n",
       "\n",
       "    .dataframe tbody tr th {\n",
       "        vertical-align: top;\n",
       "    }\n",
       "\n",
       "    .dataframe thead th {\n",
       "        text-align: right;\n",
       "    }\n",
       "</style>\n",
       "<table border=\"1\" class=\"dataframe\">\n",
       "  <thead>\n",
       "    <tr style=\"text-align: right;\">\n",
       "      <th></th>\n",
       "      <th>#v1</th>\n",
       "      <th>v2</th>\n",
       "      <th>v3</th>\n",
       "      <th>v4</th>\n",
       "      <th>v5</th>\n",
       "      <th>v6</th>\n",
       "      <th>v7</th>\n",
       "      <th>v8</th>\n",
       "      <th>v9</th>\n",
       "      <th>z</th>\n",
       "    </tr>\n",
       "  </thead>\n",
       "  <tbody>\n",
       "    <tr>\n",
       "      <th>count</th>\n",
       "      <td>1000.000000</td>\n",
       "      <td>1000.000000</td>\n",
       "      <td>1000.000000</td>\n",
       "      <td>1000.000000</td>\n",
       "      <td>1000.000000</td>\n",
       "      <td>1000.000000</td>\n",
       "      <td>1000.000000</td>\n",
       "      <td>1000.000000</td>\n",
       "      <td>1000.000000</td>\n",
       "      <td>1000.000000</td>\n",
       "    </tr>\n",
       "    <tr>\n",
       "      <th>mean</th>\n",
       "      <td>0.968392</td>\n",
       "      <td>11.005370</td>\n",
       "      <td>0.511468</td>\n",
       "      <td>2.417192</td>\n",
       "      <td>100.108795</td>\n",
       "      <td>2.726705</td>\n",
       "      <td>78.148504</td>\n",
       "      <td>0.313000</td>\n",
       "      <td>13.868300</td>\n",
       "      <td>6.367773</td>\n",
       "    </tr>\n",
       "    <tr>\n",
       "      <th>std</th>\n",
       "      <td>28.418028</td>\n",
       "      <td>0.584090</td>\n",
       "      <td>0.283292</td>\n",
       "      <td>1.147284</td>\n",
       "      <td>4.893623</td>\n",
       "      <td>0.275193</td>\n",
       "      <td>5.016537</td>\n",
       "      <td>0.463946</td>\n",
       "      <td>3.253272</td>\n",
       "      <td>3.841009</td>\n",
       "    </tr>\n",
       "    <tr>\n",
       "      <th>min</th>\n",
       "      <td>-49.942910</td>\n",
       "      <td>10.000103</td>\n",
       "      <td>0.000147</td>\n",
       "      <td>1.002395</td>\n",
       "      <td>85.147019</td>\n",
       "      <td>1.974029</td>\n",
       "      <td>62.554174</td>\n",
       "      <td>0.000000</td>\n",
       "      <td>10.100000</td>\n",
       "      <td>-0.791114</td>\n",
       "    </tr>\n",
       "    <tr>\n",
       "      <th>25%</th>\n",
       "      <td>-23.938244</td>\n",
       "      <td>10.510135</td>\n",
       "      <td>0.267591</td>\n",
       "      <td>1.258367</td>\n",
       "      <td>96.934414</td>\n",
       "      <td>2.540117</td>\n",
       "      <td>74.814175</td>\n",
       "      <td>0.000000</td>\n",
       "      <td>10.861926</td>\n",
       "      <td>3.124304</td>\n",
       "    </tr>\n",
       "    <tr>\n",
       "      <th>50%</th>\n",
       "      <td>2.852507</td>\n",
       "      <td>10.990934</td>\n",
       "      <td>0.515436</td>\n",
       "      <td>3.042135</td>\n",
       "      <td>99.920497</td>\n",
       "      <td>2.710712</td>\n",
       "      <td>78.101481</td>\n",
       "      <td>0.000000</td>\n",
       "      <td>13.089869</td>\n",
       "      <td>5.665139</td>\n",
       "    </tr>\n",
       "    <tr>\n",
       "      <th>75%</th>\n",
       "      <td>25.494062</td>\n",
       "      <td>11.517569</td>\n",
       "      <td>0.757415</td>\n",
       "      <td>3.498211</td>\n",
       "      <td>103.482385</td>\n",
       "      <td>2.902578</td>\n",
       "      <td>81.604561</td>\n",
       "      <td>1.000000</td>\n",
       "      <td>16.366096</td>\n",
       "      <td>9.260205</td>\n",
       "    </tr>\n",
       "    <tr>\n",
       "      <th>max</th>\n",
       "      <td>49.889593</td>\n",
       "      <td>11.999189</td>\n",
       "      <td>0.999727</td>\n",
       "      <td>3.999776</td>\n",
       "      <td>116.239538</td>\n",
       "      <td>3.600914</td>\n",
       "      <td>94.502170</td>\n",
       "      <td>1.000000</td>\n",
       "      <td>22.033951</td>\n",
       "      <td>16.080230</td>\n",
       "    </tr>\n",
       "  </tbody>\n",
       "</table>\n",
       "</div>"
      ],
      "text/plain": [
       "               #v1           v2           v3           v4           v5  \\\n",
       "count  1000.000000  1000.000000  1000.000000  1000.000000  1000.000000   \n",
       "mean      0.968392    11.005370     0.511468     2.417192   100.108795   \n",
       "std      28.418028     0.584090     0.283292     1.147284     4.893623   \n",
       "min     -49.942910    10.000103     0.000147     1.002395    85.147019   \n",
       "25%     -23.938244    10.510135     0.267591     1.258367    96.934414   \n",
       "50%       2.852507    10.990934     0.515436     3.042135    99.920497   \n",
       "75%      25.494062    11.517569     0.757415     3.498211   103.482385   \n",
       "max      49.889593    11.999189     0.999727     3.999776   116.239538   \n",
       "\n",
       "                v6           v7           v8           v9            z  \n",
       "count  1000.000000  1000.000000  1000.000000  1000.000000  1000.000000  \n",
       "mean      2.726705    78.148504     0.313000    13.868300     6.367773  \n",
       "std       0.275193     5.016537     0.463946     3.253272     3.841009  \n",
       "min       1.974029    62.554174     0.000000    10.100000    -0.791114  \n",
       "25%       2.540117    74.814175     0.000000    10.861926     3.124304  \n",
       "50%       2.710712    78.101481     0.000000    13.089869     5.665139  \n",
       "75%       2.902578    81.604561     1.000000    16.366096     9.260205  \n",
       "max       3.600914    94.502170     1.000000    22.033951    16.080230  "
      ]
     },
     "execution_count": 67,
     "metadata": {},
     "output_type": "execute_result"
    }
   ],
   "source": [
    "syntheticdf.describe()"
   ]
  },
  {
   "cell_type": "markdown",
   "metadata": {},
   "source": [
    "We see that range for the values that the range and the how high the values are are different. For example the variable #v1 range between -50 and 50 whereas range of v5 between 0 and 1. So we have to rescale them so that while caluclating the terms (gradient) for the predication one variable is not received as more important than the other.\n",
    "We have to decide between normalisation and standardisation. Normalisation scales the values of a variable between it's min and max. so the values of a variable could be scaled between 0 and 1. For variables that have outliers this approach is not a good option, because when there is a outlier this outlier would be a to high value for the min or max so the distance between the points around the mean would shrink. Therefore it would a better option to use a standardisation, where this is not the case.\n",
    "\n",
    "Standardisation is preffered when the variables are distributed in form of a gauß-distribution. Because also the same effect happens here also, that because some values for a variable are not so close to the mean they shrink the distance between a lot of values around the mean.\n",
    "\n",
    "So let's look at the distribution"
   ]
  },
  {
   "cell_type": "code",
   "execution_count": 68,
   "metadata": {},
   "outputs": [
    {
     "data": {
      "text/plain": [
       "array([[<Axes: title={'center': '#v1'}>, <Axes: title={'center': 'v2'}>,\n",
       "        <Axes: title={'center': 'v3'}>],\n",
       "       [<Axes: title={'center': 'v4'}>, <Axes: title={'center': 'v5'}>,\n",
       "        <Axes: title={'center': 'v6'}>],\n",
       "       [<Axes: title={'center': 'v7'}>, <Axes: title={'center': 'v8'}>,\n",
       "        <Axes: title={'center': 'v9'}>],\n",
       "       [<Axes: title={'center': 'z'}>, <Axes: >, <Axes: >]], dtype=object)"
      ]
     },
     "execution_count": 68,
     "metadata": {},
     "output_type": "execute_result"
    },
    {
     "data": {
      "image/png": "[encoded data removed]",
      "text/plain": [
       "<Figure size 640x480 with 12 Axes>"
      ]
     },
     "metadata": {},
     "output_type": "display_data"
    }
   ],
   "source": [
    "syntheticdf.hist()"
   ]
  },
  {
   "cell_type": "markdown",
   "metadata": {},
   "source": [
    "In the whole data set there not looks like there are outliers. Some features are nearly equally distributed lke v1, v2 and v3. Some are not like v4, v8 and some are have distributeion of an gauß form like v7,v5,v6. To prepare the data for the training we can scale the features between 0 and 1."
   ]
  },
  {
   "cell_type": "code",
   "execution_count": 69,
   "metadata": {},
   "outputs": [],
   "source": [
    "from sklearn.preprocessing import MinMaxScaler\n",
    "from sklearn.preprocessing import StandardScaler\n",
    "\n",
    "scaler_Standardization = StandardScaler()\n",
    "scaler_Normalisation = MinMaxScaler()\n",
    "\n",
    "normalized_data = scaler_Normalisation.fit_transform(syntheticdf)\n",
    "standarized_data = scaler_Standardization.fit_transform(syntheticdf)\n"
   ]
  },
  {
   "cell_type": "code",
   "execution_count": 70,
   "metadata": {},
   "outputs": [
    {
     "data": {
      "text/plain": [
       "array([[<Axes: title={'center': '0'}>, <Axes: title={'center': '1'}>,\n",
       "        <Axes: title={'center': '2'}>],\n",
       "       [<Axes: title={'center': '3'}>, <Axes: title={'center': '4'}>,\n",
       "        <Axes: title={'center': '5'}>],\n",
       "       [<Axes: title={'center': '6'}>, <Axes: title={'center': '7'}>,\n",
       "        <Axes: title={'center': '8'}>],\n",
       "       [<Axes: title={'center': '9'}>, <Axes: >, <Axes: >]], dtype=object)"
      ]
     },
     "execution_count": 70,
     "metadata": {},
     "output_type": "execute_result"
    },
    {
     "data": {
      "image/png": "[encoded data removed]",
      "text/plain": [
       "<Figure size 640x480 with 12 Axes>"
      ]
     },
     "metadata": {},
     "output_type": "display_data"
    }
   ],
   "source": [
    "pd.DataFrame(normalized_data).hist()"
   ]
  },
  {
   "cell_type": "code",
   "execution_count": 71,
   "metadata": {},
   "outputs": [
    {
     "data": {
      "text/plain": [
       "array([[<Axes: title={'center': '0'}>, <Axes: title={'center': '1'}>,\n",
       "        <Axes: title={'center': '2'}>],\n",
       "       [<Axes: title={'center': '3'}>, <Axes: title={'center': '4'}>,\n",
       "        <Axes: title={'center': '5'}>],\n",
       "       [<Axes: title={'center': '6'}>, <Axes: title={'center': '7'}>,\n",
       "        <Axes: title={'center': '8'}>],\n",
       "       [<Axes: title={'center': '9'}>, <Axes: >, <Axes: >]], dtype=object)"
      ]
     },
     "execution_count": 71,
     "metadata": {},
     "output_type": "execute_result"
    },
    {
     "data": {
      "image/png": "[encoded data removed]",
      "text/plain": [
       "<Figure size 640x480 with 12 Axes>"
      ]
     },
     "metadata": {},
     "output_type": "display_data"
    }
   ],
   "source": [
    "pd.DataFrame(standarized_data).hist()\n"
   ]
  },
  {
   "cell_type": "markdown",
   "metadata": {},
   "source": [
    "In conclusion we would prefer the standardisation because we have some variables that are distributed like a gaußian distribution and standardisation considers the relationship data points"
   ]
  },
  {
   "cell_type": "code",
   "execution_count": 72,
   "metadata": {},
   "outputs": [
    {
     "data": {
      "text/html": [
       "<div>\n",
       "<style scoped>\n",
       "    .dataframe tbody tr th:only-of-type {\n",
       "        vertical-align: middle;\n",
       "    }\n",
       "\n",
       "    .dataframe tbody tr th {\n",
       "        vertical-align: top;\n",
       "    }\n",
       "\n",
       "    .dataframe thead th {\n",
       "        text-align: right;\n",
       "    }\n",
       "</style>\n",
       "<table border=\"1\" class=\"dataframe\">\n",
       "  <thead>\n",
       "    <tr style=\"text-align: right;\">\n",
       "      <th></th>\n",
       "      <th>#v1</th>\n",
       "      <th>v2</th>\n",
       "      <th>v3</th>\n",
       "      <th>v4</th>\n",
       "      <th>v5</th>\n",
       "      <th>v6</th>\n",
       "      <th>v7</th>\n",
       "      <th>v8</th>\n",
       "      <th>v9</th>\n",
       "      <th>z</th>\n",
       "    </tr>\n",
       "  </thead>\n",
       "  <tbody>\n",
       "    <tr>\n",
       "      <th>0</th>\n",
       "      <td>1.280663</td>\n",
       "      <td>-0.793451</td>\n",
       "      <td>1.616521</td>\n",
       "      <td>1.004039</td>\n",
       "      <td>-0.676741</td>\n",
       "      <td>2.553385</td>\n",
       "      <td>-0.466353</td>\n",
       "      <td>-0.674985</td>\n",
       "      <td>1.886479</td>\n",
       "      <td>1.416377</td>\n",
       "    </tr>\n",
       "    <tr>\n",
       "      <th>1</th>\n",
       "      <td>0.109896</td>\n",
       "      <td>1.522669</td>\n",
       "      <td>-0.154310</td>\n",
       "      <td>-0.992534</td>\n",
       "      <td>0.008298</td>\n",
       "      <td>1.684637</td>\n",
       "      <td>-0.344116</td>\n",
       "      <td>-0.674985</td>\n",
       "      <td>-0.358487</td>\n",
       "      <td>-0.323709</td>\n",
       "    </tr>\n",
       "    <tr>\n",
       "      <th>2</th>\n",
       "      <td>-1.172442</td>\n",
       "      <td>-0.062932</td>\n",
       "      <td>-0.964088</td>\n",
       "      <td>-0.877683</td>\n",
       "      <td>0.109029</td>\n",
       "      <td>1.335112</td>\n",
       "      <td>0.121703</td>\n",
       "      <td>1.481516</td>\n",
       "      <td>-0.967034</td>\n",
       "      <td>-0.820304</td>\n",
       "    </tr>\n",
       "    <tr>\n",
       "      <th>3</th>\n",
       "      <td>-1.640673</td>\n",
       "      <td>0.863717</td>\n",
       "      <td>1.460254</td>\n",
       "      <td>0.860615</td>\n",
       "      <td>1.196895</td>\n",
       "      <td>0.572846</td>\n",
       "      <td>0.973119</td>\n",
       "      <td>-0.674985</td>\n",
       "      <td>1.869298</td>\n",
       "      <td>1.715855</td>\n",
       "    </tr>\n",
       "    <tr>\n",
       "      <th>4</th>\n",
       "      <td>-1.496693</td>\n",
       "      <td>-1.521392</td>\n",
       "      <td>-0.693229</td>\n",
       "      <td>-1.218331</td>\n",
       "      <td>-0.559655</td>\n",
       "      <td>0.323990</td>\n",
       "      <td>-0.190274</td>\n",
       "      <td>-0.674985</td>\n",
       "      <td>-0.849809</td>\n",
       "      <td>-1.158785</td>\n",
       "    </tr>\n",
       "  </tbody>\n",
       "</table>\n",
       "</div>"
      ],
      "text/plain": [
       "        #v1        v2        v3        v4        v5        v6        v7  \\\n",
       "0  1.280663 -0.793451  1.616521  1.004039 -0.676741  2.553385 -0.466353   \n",
       "1  0.109896  1.522669 -0.154310 -0.992534  0.008298  1.684637 -0.344116   \n",
       "2 -1.172442 -0.062932 -0.964088 -0.877683  0.109029  1.335112  0.121703   \n",
       "3 -1.640673  0.863717  1.460254  0.860615  1.196895  0.572846  0.973119   \n",
       "4 -1.496693 -1.521392 -0.693229 -1.218331 -0.559655  0.323990 -0.190274   \n",
       "\n",
       "         v8        v9         z  \n",
       "0 -0.674985  1.886479  1.416377  \n",
       "1 -0.674985 -0.358487 -0.323709  \n",
       "2  1.481516 -0.967034 -0.820304  \n",
       "3 -0.674985  1.869298  1.715855  \n",
       "4 -0.674985 -0.849809 -1.158785  "
      ]
     },
     "execution_count": 72,
     "metadata": {},
     "output_type": "execute_result"
    }
   ],
   "source": [
    "df = pd.DataFrame(standarized_data, columns=['#v1','v2','v3','v4','v5','v6','v7','v8','v9','z'])\n",
    "df.head()"
   ]
  },
  {
   "cell_type": "markdown",
   "metadata": {},
   "source": [
    "We take only the values from -2.5 to 2.5."
   ]
  },
  {
   "cell_type": "code",
   "execution_count": 73,
   "metadata": {},
   "outputs": [],
   "source": [
    "#df = df[(df < 2.5)& (df > 2.5)]\n"
   ]
  },
  {
   "cell_type": "code",
   "execution_count": 74,
   "metadata": {},
   "outputs": [],
   "source": [
    "df.to_csv(\"processed_datasets/synthetic.csv\", index=False)"
   ]
  },
  {
   "cell_type": "code",
   "execution_count": 75,
   "metadata": {},
   "outputs": [
    {
     "data": {
      "text/html": [
       "<div>\n",
       "<style scoped>\n",
       "    .dataframe tbody tr th:only-of-type {\n",
       "        vertical-align: middle;\n",
       "    }\n",
       "\n",
       "    .dataframe tbody tr th {\n",
       "        vertical-align: top;\n",
       "    }\n",
       "\n",
       "    .dataframe thead th {\n",
       "        text-align: right;\n",
       "    }\n",
       "</style>\n",
       "<table border=\"1\" class=\"dataframe\">\n",
       "  <thead>\n",
       "    <tr style=\"text-align: right;\">\n",
       "      <th></th>\n",
       "      <th>#v1</th>\n",
       "      <th>v2</th>\n",
       "      <th>v3</th>\n",
       "      <th>v4</th>\n",
       "      <th>v5</th>\n",
       "      <th>v6</th>\n",
       "      <th>v7</th>\n",
       "      <th>v8</th>\n",
       "      <th>v9</th>\n",
       "      <th>z</th>\n",
       "    </tr>\n",
       "  </thead>\n",
       "  <tbody>\n",
       "    <tr>\n",
       "      <th>0</th>\n",
       "      <td>1.280663</td>\n",
       "      <td>-0.793451</td>\n",
       "      <td>1.616521</td>\n",
       "      <td>1.004039</td>\n",
       "      <td>-0.676741</td>\n",
       "      <td>2.553385</td>\n",
       "      <td>-0.466353</td>\n",
       "      <td>-0.674985</td>\n",
       "      <td>1.886479</td>\n",
       "      <td>1.416377</td>\n",
       "    </tr>\n",
       "    <tr>\n",
       "      <th>1</th>\n",
       "      <td>0.109896</td>\n",
       "      <td>1.522669</td>\n",
       "      <td>-0.154310</td>\n",
       "      <td>-0.992534</td>\n",
       "      <td>0.008298</td>\n",
       "      <td>1.684637</td>\n",
       "      <td>-0.344116</td>\n",
       "      <td>-0.674985</td>\n",
       "      <td>-0.358487</td>\n",
       "      <td>-0.323709</td>\n",
       "    </tr>\n",
       "    <tr>\n",
       "      <th>2</th>\n",
       "      <td>-1.172442</td>\n",
       "      <td>-0.062932</td>\n",
       "      <td>-0.964088</td>\n",
       "      <td>-0.877683</td>\n",
       "      <td>0.109029</td>\n",
       "      <td>1.335112</td>\n",
       "      <td>0.121703</td>\n",
       "      <td>1.481516</td>\n",
       "      <td>-0.967034</td>\n",
       "      <td>-0.820304</td>\n",
       "    </tr>\n",
       "    <tr>\n",
       "      <th>3</th>\n",
       "      <td>-1.640673</td>\n",
       "      <td>0.863717</td>\n",
       "      <td>1.460254</td>\n",
       "      <td>0.860615</td>\n",
       "      <td>1.196895</td>\n",
       "      <td>0.572846</td>\n",
       "      <td>0.973119</td>\n",
       "      <td>-0.674985</td>\n",
       "      <td>1.869298</td>\n",
       "      <td>1.715855</td>\n",
       "    </tr>\n",
       "    <tr>\n",
       "      <th>4</th>\n",
       "      <td>-1.496693</td>\n",
       "      <td>-1.521392</td>\n",
       "      <td>-0.693229</td>\n",
       "      <td>-1.218331</td>\n",
       "      <td>-0.559655</td>\n",
       "      <td>0.323990</td>\n",
       "      <td>-0.190274</td>\n",
       "      <td>-0.674985</td>\n",
       "      <td>-0.849809</td>\n",
       "      <td>-1.158785</td>\n",
       "    </tr>\n",
       "  </tbody>\n",
       "</table>\n",
       "</div>"
      ],
      "text/plain": [
       "        #v1        v2        v3        v4        v5        v6        v7  \\\n",
       "0  1.280663 -0.793451  1.616521  1.004039 -0.676741  2.553385 -0.466353   \n",
       "1  0.109896  1.522669 -0.154310 -0.992534  0.008298  1.684637 -0.344116   \n",
       "2 -1.172442 -0.062932 -0.964088 -0.877683  0.109029  1.335112  0.121703   \n",
       "3 -1.640673  0.863717  1.460254  0.860615  1.196895  0.572846  0.973119   \n",
       "4 -1.496693 -1.521392 -0.693229 -1.218331 -0.559655  0.323990 -0.190274   \n",
       "\n",
       "         v8        v9         z  \n",
       "0 -0.674985  1.886479  1.416377  \n",
       "1 -0.674985 -0.358487 -0.323709  \n",
       "2  1.481516 -0.967034 -0.820304  \n",
       "3 -0.674985  1.869298  1.715855  \n",
       "4 -0.674985 -0.849809 -1.158785  "
      ]
     },
     "execution_count": 75,
     "metadata": {},
     "output_type": "execute_result"
    }
   ],
   "source": [
    "df.head()"
   ]
  },
  {
   "cell_type": "code",
   "execution_count": null,
   "metadata": {},
   "outputs": [],
   "source": [
    "# TODO: ask the prof, if you have to cut the values and than the delete the rows which have missing values. Also ask him if you can use sckit learn libaries for standardisation"
   ]
  }
 ],
 "metadata": {
  "kernelspec": {
   "display_name": "Python 3",
   "language": "python",
   "name": "python3"
  },
  "language_info": {
   "codemirror_mode": {
    "name": "ipython",
    "version": 3
   },
   "file_extension": ".py",
   "mimetype": "text/x-python",
   "name": "python",
   "nbconvert_exporter": "python",
   "pygments_lexer": "ipython3",
   "version": "3.11.6"
  }
 },
 "nbformat": 4,
 "nbformat_minor": 2
}
