{
 "cells": [
  {
   "cell_type": "code",
   "execution_count": 60,
   "metadata": {
    "collapsed": true
   },
   "outputs": [],
   "source": [
    "from sklearn.linear_model import LinearRegression\n",
    "import numpy as np\n",
    "from typing import Callable\n",
    "import torch\n",
    "import torch.nn as nn\n",
    "import torch.nn.functional as F"
   ]
  },
  {
   "cell_type": "code",
   "execution_count": 100,
   "outputs": [],
   "source": [
    "# pyTorch neural network class\n",
    "\n",
    "class myPytorchNetwork(nn.Module):\n",
    "    def __init__(self, layers):\n",
    "        super(myPytorchNetwork, self).__init__()\n",
    "        self.fc_layers = nn.ModuleList([nn.Linear(layers[i], layers[i + 1]) for i in range(len(layers) - 1)])\n",
    "\n",
    "    def forward(self, x):\n",
    "        x = torch.flatten(x, 1)\n",
    "\n",
    "        # TODO: I'm using relus everywhere for now, we need to change it to be adjustable\n",
    "        for layer in self.fc_layers[:-1]:\n",
    "            x = F.relu(layer(x))\n",
    "\n",
    "        # No need for activation in the last layer\n",
    "        return self.fc_layers[-1](x)\n",
    "\n",
    "\n",
    "def train_torch_network(network: myPytorchNetwork, dataset, max_epochs, batch_size, train_ratio=0.7,\n",
    "                        learning_rate=0.001, momentum=0.9, silent=False):\n",
    "    loss_fn = torch.nn.MSELoss()\n",
    "    # TODO: think of making the learning rate adaptive here, e.g. by using pytorch LR scheduler\n",
    "    optimizer = torch.optim.SGD(network.parameters(), lr=learning_rate, momentum=momentum)\n",
    "    split_index = int(dataset.shape[0] * train_ratio)\n",
    "    train, validation = dataset[:split_index, :], torch.from_numpy(dataset[split_index:, :])\n",
    "\n",
    "    for epoch in range(max_epochs):\n",
    "        np.random.shuffle(train)\n",
    "        torch_train = torch.from_numpy(train)\n",
    "        batch_start_idx = 0\n",
    "\n",
    "        batches_loss = []\n",
    "        # This way we skip last samples if there are less than batch_size of them\n",
    "        while batch_start_idx + batch_size <= torch_train.shape[0]:\n",
    "            optimizer.zero_grad()\n",
    "            outputs = network(torch_train[batch_start_idx:batch_start_idx + batch_size, :-1])\n",
    "            loss = loss_fn(torch.flatten(outputs), torch_train[batch_start_idx:batch_start_idx + batch_size, -1])\n",
    "            batches_loss.append(loss.item())\n",
    "\n",
    "            loss.backward()\n",
    "\n",
    "            optimizer.step()\n",
    "            batch_start_idx += batch_size\n",
    "\n",
    "        # Now, check the loss on validation dataset\n",
    "        validation_output = torch.flatten(network(validation[:, :-1]))\n",
    "        validation_loss = loss_fn(validation_output, validation[:, -1])\n",
    "        if not silent:\n",
    "            print(\n",
    "                f\"Epoch: {epoch}. \\nLoss on training: {np.mean(batches_loss)} \\nLoss on validation: {validation_loss} \\n##########\")\n"
   ],
   "metadata": {
    "collapsed": false
   }
  },
  {
   "cell_type": "code",
   "execution_count": 56,
   "outputs": [],
   "source": [
    "def run_linear_regression(train_inputs, train_outputs, test_inputs) -> np.array:\n",
    "    \"\"\"\n",
    "    Train a linear regression on train_inputs, and predict data for test_inputs\n",
    "    \"\"\"\n",
    "    reg = LinearRegression().fit(train_inputs, train_outputs)\n",
    "    prediction = reg.predict(test_inputs)\n",
    "    return prediction\n",
    "\n",
    "\n",
    "def run_pytorch_network(network, train_inputs, train_outputs, test_inputs) -> np.array:\n",
    "    \"\"\"\n",
    "    Train a pytorch network and predict outputs for test_inputs\n",
    "    \"\"\"\n",
    "    train_torch_network(network)\n",
    "\n",
    "\n",
    "def measure_model_error_multiple_times(model: Callable, dataset: np.array, train_ratio=0.85, num_runs=5):\n",
    "    \"\"\"\n",
    "    :param model: a callable that accepts train inputs, train outputs, test inputs, and produces the prediction for test inputs\n",
    "    :param dataset: dataset to train on of shape (n_samples, n_features), where the last column is the value to be predicted\n",
    "    :param train_ratio: how much data to put into the training dataset\n",
    "    :param num_runs: number of runs with reshuffled dataset\n",
    "    :return: mean MSE through all the runs\n",
    "    \"\"\"\n",
    "    split_index = int(dataset.shape[0] * train_ratio)\n",
    "    error_sum = 0\n",
    "    for _ in range(num_runs):\n",
    "        np.random.shuffle(dataset)\n",
    "        train = dataset[:split_index, :]\n",
    "        test = dataset[split_index:, :]\n",
    "\n",
    "        prediction = model(train[:, :-1], train[:, -1], test[:, :-1])\n",
    "        mse = np.mean((prediction - test[:, -1]) ** 2)\n",
    "        print(f\"Model MSE on test: {mse}\")\n",
    "        error_sum += mse\n",
    "    return error_sum / num_runs"
   ],
   "metadata": {
    "collapsed": false
   }
  },
  {
   "cell_type": "code",
   "execution_count": 88,
   "outputs": [],
   "source": [
    "# Load the data. TODO: add all the datasets here\n",
    "turbine = np.genfromtxt(\"processed_datasets/turbine.csv\", dtype=np.float32, delimiter=',', skip_header=1)\n",
    "turbine_input, turbine_output = turbine[:, :4], turbine[:, 4]"
   ],
   "metadata": {
    "collapsed": false
   }
  },
  {
   "cell_type": "code",
   "execution_count": 64,
   "outputs": [
    {
     "name": "stdout",
     "output_type": "stream",
     "text": [
      "Model MSE: 0.0012760517420247197\n",
      "Model MSE: 0.0017902901163324714\n",
      "Model MSE: 0.0015872992807999253\n",
      "Model MSE: 0.0017255778657272458\n",
      "Model MSE: 0.0016643449198454618\n"
     ]
    },
    {
     "data": {
      "text/plain": "0.0016087127849459648"
     },
     "execution_count": 64,
     "metadata": {},
     "output_type": "execute_result"
    }
   ],
   "source": [
    "# Trying a couple of times with different splits into training and test data for a better understanging\n",
    "measure_model_error_multiple_times(run_linear_regression, turbine)"
   ],
   "metadata": {
    "collapsed": false
   }
  },
  {
   "cell_type": "code",
   "execution_count": 89,
   "outputs": [
    {
     "data": {
      "text/plain": "(451, 5)"
     },
     "execution_count": 89,
     "metadata": {},
     "output_type": "execute_result"
    }
   ],
   "source": [
    "turbine.shape"
   ],
   "metadata": {
    "collapsed": false
   }
  },
  {
   "cell_type": "code",
   "execution_count": 99,
   "outputs": [
    {
     "name": "stdout",
     "output_type": "stream",
     "text": [
      "myPytorchNetwork(\n",
      "  (fc_layers): ModuleList(\n",
      "    (0): Linear(in_features=4, out_features=8, bias=True)\n",
      "    (1): Linear(in_features=8, out_features=10, bias=True)\n",
      "    (2): Linear(in_features=10, out_features=1, bias=True)\n",
      "  )\n",
      ")\n",
      "Epoch: 0. \n",
      "Loss on training: 0.09286606654284461 \n",
      "Loss on validation: 0.041980527341365814 \n",
      "##########\n",
      "Epoch: 1. \n",
      "Loss on training: 0.01773180087818013 \n",
      "Loss on validation: 0.003901812946423888 \n",
      "##########\n",
      "Epoch: 2. \n",
      "Loss on training: 0.005159017496607116 \n",
      "Loss on validation: 0.00335987051948905 \n",
      "##########\n",
      "Epoch: 3. \n",
      "Loss on training: 0.0034607121037439474 \n",
      "Loss on validation: 0.005712843965739012 \n",
      "##########\n",
      "Epoch: 4. \n",
      "Loss on training: 0.003237178748203141 \n",
      "Loss on validation: 0.002567701507359743 \n",
      "##########\n",
      "Epoch: 5. \n",
      "Loss on training: 0.0023461145089728936 \n",
      "Loss on validation: 0.003956796135753393 \n",
      "##########\n",
      "Epoch: 6. \n",
      "Loss on training: 0.0027781967636978915 \n",
      "Loss on validation: 0.003011946566402912 \n",
      "##########\n",
      "Epoch: 7. \n",
      "Loss on training: 0.002275680024702583 \n",
      "Loss on validation: 0.002081609331071377 \n",
      "##########\n",
      "Epoch: 8. \n",
      "Loss on training: 0.0019398069271119311 \n",
      "Loss on validation: 0.0018171585397794843 \n",
      "##########\n",
      "Epoch: 9. \n",
      "Loss on training: 0.0016940654078949123 \n",
      "Loss on validation: 0.0018336949869990349 \n",
      "##########\n",
      "Epoch: 10. \n",
      "Loss on training: 0.0016418715747403762 \n",
      "Loss on validation: 0.0031363642774522305 \n",
      "##########\n",
      "Epoch: 11. \n",
      "Loss on training: 0.0020391425266185954 \n",
      "Loss on validation: 0.0015598644968122244 \n",
      "##########\n",
      "Epoch: 12. \n",
      "Loss on training: 0.0012848325714003295 \n",
      "Loss on validation: 0.0014783366350457072 \n",
      "##########\n",
      "Epoch: 13. \n",
      "Loss on training: 0.0012772358801861805 \n",
      "Loss on validation: 0.001235729199834168 \n",
      "##########\n",
      "Epoch: 14. \n",
      "Loss on training: 0.0017147426213693594 \n",
      "Loss on validation: 0.0009145961957983673 \n",
      "##########\n",
      "Epoch: 15. \n",
      "Loss on training: 0.0011833426955666754 \n",
      "Loss on validation: 0.0007927789120003581 \n",
      "##########\n",
      "Epoch: 16. \n",
      "Loss on training: 0.0009946774192822858 \n",
      "Loss on validation: 0.0006635542958974838 \n",
      "##########\n",
      "Epoch: 17. \n",
      "Loss on training: 0.0007714384288016347 \n",
      "Loss on validation: 0.0006629022536799312 \n",
      "##########\n",
      "Epoch: 18. \n",
      "Loss on training: 0.000722562825690294 \n",
      "Loss on validation: 0.0005180778098292649 \n",
      "##########\n",
      "Epoch: 19. \n",
      "Loss on training: 0.0005258482002142457 \n",
      "Loss on validation: 0.0007776838028803468 \n",
      "##########\n"
     ]
    }
   ],
   "source": [
    "torch_nn = myPytorchNetwork([4, 8, 10, 1])\n",
    "print(torch_nn)\n",
    "train_torch_network(torch_nn, turbine, 20, 10, learning_rate=0.1)"
   ],
   "metadata": {
    "collapsed": false
   }
  },
  {
   "cell_type": "code",
   "execution_count": 78,
   "outputs": [],
   "source": [],
   "metadata": {
    "collapsed": false
   }
  }
 ],
 "metadata": {
  "kernelspec": {
   "display_name": "Python 3",
   "language": "python",
   "name": "python3"
  },
  "language_info": {
   "codemirror_mode": {
    "name": "ipython",
    "version": 2
   },
   "file_extension": ".py",
   "mimetype": "text/x-python",
   "name": "python",
   "nbconvert_exporter": "python",
   "pygments_lexer": "ipython2",
   "version": "2.7.6"
  }
 },
 "nbformat": 4,
 "nbformat_minor": 0
}
